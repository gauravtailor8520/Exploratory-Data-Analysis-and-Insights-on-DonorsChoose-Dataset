{
  "cells": [
    {
      "metadata": {
        "_uuid": "e92a16f3db12291c3425b99aab91d54e6327d050",
        "_cell_guid": "6fd5b29f-e837-4e78-ba48-63cf77bddb46",
        "id": "7svQ6o3lsxOO"
      },
      "cell_type": "markdown",
      "source": [
        "Hi everybody,  \n",
        "In this kernel, I will try to do some exploratory data analysis and I will also try to find answers for some questions to uncover insights.\n",
        "First of all, I would like to share you the Entity Relationship Diagram(ERD) of this dataset which will help us to determine what kind of joins, merges should be applied and\n",
        "which primary and foreign keys must be used.\n",
        "![image.png](attachment:image.png)\n",
        "For example : if we want to combine donors with the projects we must first combine projects with donations and then combine donors in order to do perfect merging since there is no mutual column in between donors and projects directly.\n",
        "\n",
        "\n",
        "Note: If you cant see the image above, please click this link :\n",
        "(https://ibb.co/nv7Otn)"
      ]
    },
    {
      "metadata": {
        "collapsed": true,
        "_uuid": "8f2839f25d086af736a60e9eeb907d3b93b6e0e5",
        "_cell_guid": "b1076dfc-b9ad-4769-8c92-a6c4dae69d19",
        "trusted": false,
        "id": "NuTrhRKJsxOV"
      },
      "cell_type": "code",
      "source": [
        "# This Python 3 environment comes with many helpful analytics libraries installed\n",
        "# It is defined by the kaggle/python docker image: https://github.com/kaggle/docker-python\n",
        "# For example, here's several helpful packages to load in\n",
        "\n",
        "import numpy as np # linear algebra\n",
        "import pandas as pd # data processing, CSV file I/O (e.g. pd.read_csv)\n",
        "\n",
        "# Input data files are available in the \"../input/\" directory.\n",
        "# For example, running this (by clicking run or pressing Shift+Enter) will list the files in the input directory\n",
        "\n",
        "import os\n",
        "print(os.listdir(\"../input\"))\n",
        "\n",
        "# Any results you write to the current directory are saved as output."
      ],
      "execution_count": null,
      "outputs": []
    },
    {
      "metadata": {
        "collapsed": true,
        "_kg_hide-output": false,
        "_cell_guid": "79c7e3d0-c299-4dcb-8224-4455121ee9b0",
        "_kg_hide-input": false,
        "_uuid": "d629ff2d2480ee46fbb7e2d37f6b5fab8052498a",
        "trusted": false,
        "id": "qvjmSd3tsxOY"
      },
      "cell_type": "code",
      "source": [
        "## This will gather necessary libraries for plotting.\n",
        "import matplotlib.pyplot as plt\n",
        "%matplotlib inline\n",
        "import seaborn as sns\n",
        "from matplotlib import style\n",
        "import datetime as dt\n",
        "style.use(\"ggplot\")\n"
      ],
      "execution_count": null,
      "outputs": []
    },
    {
      "metadata": {
        "collapsed": true,
        "_uuid": "e5e2f07c81b27d6fe132177e520912cc4da02747",
        "_cell_guid": "463f8394-3c20-438e-b180-4401e5071195",
        "trusted": false,
        "id": "EtEFSsFjsxOZ"
      },
      "cell_type": "code",
      "source": [
        "# It is time to grab the data one by one.\n",
        "resources = pd.read_csv(\"../input/Resources.csv\", error_bad_lines = False, warn_bad_lines = False, low_memory = False)"
      ],
      "execution_count": null,
      "outputs": []
    },
    {
      "metadata": {
        "collapsed": true,
        "_uuid": "b919a7409e189cada518513a43b0e9cb37d90d6c",
        "_cell_guid": "07696e71-7fc3-4bbf-9803-9f9a3bfb76ce",
        "trusted": false,
        "id": "d3LLxHtzsxOa"
      },
      "cell_type": "code",
      "source": [
        "schools = pd.read_csv(\"../input/Schools.csv\", error_bad_lines = False, warn_bad_lines = False)"
      ],
      "execution_count": null,
      "outputs": []
    },
    {
      "metadata": {
        "collapsed": true,
        "_uuid": "d35a6b64177fb332b5cff0900bf8f5b171bef98b",
        "_cell_guid": "75fac2a2-a5be-45e9-93dc-925e40ee5976",
        "trusted": false,
        "id": "jITVt_rksxOb"
      },
      "cell_type": "code",
      "source": [
        "donors = pd.read_csv(\"../input/Donors.csv\",low_memory = False)"
      ],
      "execution_count": null,
      "outputs": []
    },
    {
      "metadata": {
        "collapsed": true,
        "_uuid": "2e6cc9f33ad26d58e21864e904a762c183998628",
        "_cell_guid": "b30a9b8d-6ed4-4a82-b107-c8a9a1cd5ce9",
        "trusted": false,
        "id": "Py4dlLEBsxOb"
      },
      "cell_type": "code",
      "source": [
        "donations = pd.read_csv(\"../input/Donations.csv\", error_bad_lines = False, warn_bad_lines = False)"
      ],
      "execution_count": null,
      "outputs": []
    },
    {
      "metadata": {
        "collapsed": true,
        "_uuid": "c30926085fe269a3e071e7f09a4b77f4e6389de9",
        "_cell_guid": "f797e7c1-e93c-4f30-bbc1-e92dcdede09d",
        "trusted": false,
        "id": "7cTc98iGsxOc"
      },
      "cell_type": "code",
      "source": [
        "teachers = pd.read_csv(\"../input/Teachers.csv\", error_bad_lines = False, warn_bad_lines = False)"
      ],
      "execution_count": null,
      "outputs": []
    },
    {
      "metadata": {
        "collapsed": true,
        "_uuid": "6bb6443b9e675926a7216bc40068709706718d42",
        "_cell_guid": "3dc4c878-f791-4541-aac1-583af9c99009",
        "trusted": false,
        "id": "chEMW8WFsxOd"
      },
      "cell_type": "code",
      "source": [
        "projects = pd.read_csv(\"../input/Projects.csv\", error_bad_lines = False, warn_bad_lines = False)"
      ],
      "execution_count": null,
      "outputs": []
    },
    {
      "metadata": {
        "collapsed": true,
        "_uuid": "4ce65a05d0c60892ab77e46bccd73c761595a49a",
        "_cell_guid": "92c0d182-b51d-4941-bc62-e818870c2e76",
        "trusted": false,
        "id": "eJ77Uw5IsxOd"
      },
      "cell_type": "code",
      "source": [
        "## lets look at their shapes respectively.\n",
        "print(\" Shape of the resources dataframe is: \" , resources.shape)\n",
        "print(\" Shape of the schools dataframe is: \", schools.shape)\n",
        "print(\" Shape of the donors dataframe is: \", donors.shape)\n",
        "print(\" Shape of the donations dataframe is: \", donations.shape)\n",
        "print(\" Shape of the teachers dataframe is: \", teachers.shape)\n",
        "print(\" Shape of the projects dataframe is: \", projects.shape)"
      ],
      "execution_count": null,
      "outputs": []
    },
    {
      "metadata": {
        "collapsed": true,
        "_uuid": "2689713cee5c7299dfd869fc5ddace910cecf96d",
        "_cell_guid": "fe704935-47da-41d1-8298-b8c2a1257bc2",
        "trusted": false,
        "id": "rkLl7K9hsxOf"
      },
      "cell_type": "code",
      "source": [
        "# Lets look at he first 5 rows for each dataframe to explore column names, indexes better.\n",
        "resources.head()"
      ],
      "execution_count": null,
      "outputs": []
    },
    {
      "metadata": {
        "collapsed": true,
        "_uuid": "25a1f71c4155fbb70b4f16c850aafecedd3b480c",
        "_cell_guid": "acabf4e5-e04e-4138-9a2c-7eef0e93ff3a",
        "trusted": false,
        "id": "aeoys3KfsxOg"
      },
      "cell_type": "code",
      "source": [
        "schools.head()"
      ],
      "execution_count": null,
      "outputs": []
    },
    {
      "metadata": {
        "collapsed": true,
        "_uuid": "dddd1e39b30aea57a979b260e576a2bda1f3b853",
        "_cell_guid": "a938948d-60e4-4103-a4ea-9c1d6c05feaa",
        "trusted": false,
        "id": "EzIUxiGYsxOg"
      },
      "cell_type": "code",
      "source": [
        "donors.head()"
      ],
      "execution_count": null,
      "outputs": []
    },
    {
      "metadata": {
        "collapsed": true,
        "_uuid": "9f1c8211b5ad94825b4005fcf27ba3b1cc87a47a",
        "_cell_guid": "4df8093e-517a-4643-9368-34b0c9a27cc0",
        "trusted": false,
        "id": "ZuLAtSUhsxOh"
      },
      "cell_type": "code",
      "source": [
        "donations.head()"
      ],
      "execution_count": null,
      "outputs": []
    },
    {
      "metadata": {
        "collapsed": true,
        "_uuid": "895df94cf14bcbf8690614a93502bb2dbaf76270",
        "_cell_guid": "02058d29-cc2a-4de2-81f2-9da73f656d93",
        "trusted": false,
        "id": "j0PO7tWZsxOi"
      },
      "cell_type": "code",
      "source": [
        "teachers.head()"
      ],
      "execution_count": null,
      "outputs": []
    },
    {
      "metadata": {
        "collapsed": true,
        "_uuid": "fbfdb4cfe6adab5920e2c63e6f1064e4b7bc86d6",
        "_cell_guid": "6d13e808-0c77-4cc3-bad5-4aa9d75407f7",
        "trusted": false,
        "id": "YlaA0zxysxOi"
      },
      "cell_type": "code",
      "source": [
        "projects.head()"
      ],
      "execution_count": null,
      "outputs": []
    },
    {
      "metadata": {
        "_uuid": "ae40e705be6010ad8733d2ea294acb6070c7b933",
        "_cell_guid": "a39cadba-1d53-431c-b195-2f9bfb100fc3",
        "id": "aIlPlX1YsxOi"
      },
      "cell_type": "markdown",
      "source": [
        "**I will write down some codes for ones who want to better explore the data :**\n",
        "\n",
        "**1) To get the column names of our dataframes :**\n",
        "\n",
        "* schools.columns ,\n",
        "* projects.columns,\n",
        "* resources.columns ,\n",
        "* donors.columns ,\n",
        "* donations.columns ,\n",
        "* teachers.columns\n",
        "\n",
        "**2) To get the data type of each column of a dataframe: **\n",
        "\n",
        "* donations.dtypes,\n",
        "* schools.dtypes,\n",
        "* projects.dtypes,\n",
        "* resources.dtypes,\n",
        "* donors.dtypes,\n",
        "* teachers.dtypes,\n",
        "\n",
        "**3) To get the number of Nan's in each column of a dataframe :**\n",
        "\n",
        "* donations.isnull().sum(),\n",
        "* schools.isnull().sum(),\n",
        "* projects.isnull().sum(),\n",
        "* resources.isnull().sum(),\n",
        "* donors.isnull().sum(),\n",
        "* teachers.isnull().sum()\n",
        "\n",
        "**4) To understands the statistics of columns that have numeric data types.**\n",
        "\n",
        "* donations.describe(),\n",
        "* schools.describe(),\n",
        "* projects.describe(),\n",
        "* resources.describe(),\n",
        "* donors.describe(),\n",
        "* teachers.describe()\n",
        "\n",
        "**5) To understand how many unique values that a column have :**\n",
        "\n",
        "* schools[\"Name\"].nunique(),\n",
        "* donors[\"City\"].nunique(),\n",
        "* teachers[\"Teacher Prefix\"].nunique()\n",
        "\n",
        "**6) Last but not least **: if you want to change the data type of a column, lets assume that \"School Percentage Free Lunch\" column of schools dataframe given as string but it must be float type as expected ( actually it is ).\n",
        "\n",
        "schools[\"School Percentage Free Lunch\"] = schools[\"School Percentage Free Lunch\"].astype(float)\n",
        "\n"
      ]
    },
    {
      "metadata": {
        "collapsed": true,
        "_uuid": "9e975c66db1193f1f07291fe54c26811bf36a041",
        "_cell_guid": "eb63fc81-0368-48e1-954c-cae0955b18fa",
        "trusted": false,
        "id": "Xs6sF2iksxOj"
      },
      "cell_type": "code",
      "source": [
        "# I would like to combine all dataframes in a one big dataframe to start my analysis. Normally you can perform analysis in each dataframe individually\n",
        "# but this time I will try to do it in one big dataframe. I will look through ERD that I shared at the top.\n",
        "data = pd.merge(projects, donations, how = \"inner\", on = \"Project ID\")\n"
      ],
      "execution_count": null,
      "outputs": []
    },
    {
      "metadata": {
        "collapsed": true,
        "_uuid": "6256199810100ff54f224509ba966f1a4b5a31b3",
        "_cell_guid": "db9caff0-55c8-49fb-9eb4-d026900942ba",
        "trusted": false,
        "id": "x1sJkM0bsxOj"
      },
      "cell_type": "code",
      "source": [
        "data.shape"
      ],
      "execution_count": null,
      "outputs": []
    },
    {
      "metadata": {
        "collapsed": true,
        "_uuid": "0a7357ce9087df0e91894c3b7aa4615743b3fdae",
        "_cell_guid": "bd57d728-bf36-47ae-a62d-10341c765576",
        "trusted": false,
        "id": "mCMF-5IosxOj"
      },
      "cell_type": "code",
      "source": [
        "data2 = pd.merge(data, donors, how = \"inner\", on = \"Donor ID\")"
      ],
      "execution_count": null,
      "outputs": []
    },
    {
      "metadata": {
        "collapsed": true,
        "_uuid": "317c29ffffd8425c54d86cbd5c2db90f5701b561",
        "_cell_guid": "b3e14b77-8a08-45f3-a8ef-93822b9924f3",
        "trusted": false,
        "id": "bVbZamMMsxOj"
      },
      "cell_type": "code",
      "source": [
        "data2.shape"
      ],
      "execution_count": null,
      "outputs": []
    },
    {
      "metadata": {
        "collapsed": true,
        "_uuid": "89b8908636f5aff13cd8aaf9d6805473e20fe92c",
        "_cell_guid": "6522b6cc-3ec6-4e44-9d4b-6cdcd3859322",
        "trusted": false,
        "id": "V0JxtMaZsxOk"
      },
      "cell_type": "code",
      "source": [
        "data3 = pd.merge(data2, schools, how = \"inner\", on = \"School ID\")"
      ],
      "execution_count": null,
      "outputs": []
    },
    {
      "metadata": {
        "collapsed": true,
        "_uuid": "275e912bf7e86b5f03a11261108e8d346d50f272",
        "_cell_guid": "f8cb086c-2cc6-4956-bce7-9286cc85b862",
        "trusted": false,
        "id": "bbeRieaKsxOk"
      },
      "cell_type": "code",
      "source": [
        "data3.shape"
      ],
      "execution_count": null,
      "outputs": []
    },
    {
      "metadata": {
        "collapsed": true,
        "_uuid": "5237ef36d6d9aedec18b4165a7490cf677d139ed",
        "_cell_guid": "8f2a23b1-c952-45c0-8a76-408b172cfa2a",
        "trusted": false,
        "id": "_9xpELTjsxOk"
      },
      "cell_type": "code",
      "source": [
        "data4 = pd.merge(data3, teachers, how = \"inner\", on = \"Teacher ID\")"
      ],
      "execution_count": null,
      "outputs": []
    },
    {
      "metadata": {
        "collapsed": true,
        "_uuid": "1f6959b29ef0ff84567cd0b2591badbf309e454f",
        "_cell_guid": "1bc203d4-8ab2-448a-b74d-a639125883ae",
        "trusted": false,
        "id": "X04y-0sLsxOk"
      },
      "cell_type": "code",
      "source": [
        "data4.shape"
      ],
      "execution_count": null,
      "outputs": []
    },
    {
      "metadata": {
        "collapsed": true,
        "_uuid": "325335290d7643decf959c20aad4cd7d03c69df0",
        "_cell_guid": "ac6b72a3-bb16-47cc-bb38-aa78508cb5fa",
        "trusted": false,
        "id": "J5yeVsV8sxOk"
      },
      "cell_type": "code",
      "source": [
        "# It appears that when I want to combine remaining recources dataframe with the\n",
        "# data4 (which includes projects, donors, donations, teachers and schools) kernel dies since it creates seven times greater dataframe. So I decide to\n",
        "# not add resources for now.I will merge projects and resources later on. It looks like we obtained a nice 4.4 million rows and 34 columns dataframe.\n",
        "# I am already excited. Lets dive and see what we can dig from this dataframe."
      ],
      "execution_count": null,
      "outputs": []
    },
    {
      "metadata": {
        "collapsed": true,
        "_uuid": "fe1f23b1a8a8c8011a52055568de82f07163f93d",
        "_cell_guid": "f6fa6eb3-4bd4-4229-8973-8802ae23d977",
        "trusted": false,
        "id": "0O2mPruKsxOl"
      },
      "cell_type": "code",
      "source": [
        "data4.head(5)"
      ],
      "execution_count": null,
      "outputs": []
    },
    {
      "metadata": {
        "collapsed": true,
        "_uuid": "1737da43384f86ed0e41b194296cbe7c86f8ada4",
        "scrolled": true,
        "_cell_guid": "3c4f7cb8-7939-442f-8342-be2d79bf23f9",
        "trusted": false,
        "id": "b9b0xplssxOl"
      },
      "cell_type": "code",
      "source": [
        "a = data4.columns.values.tolist()  ##to get all column names in our dataframe as a list.\n",
        "a"
      ],
      "execution_count": null,
      "outputs": []
    },
    {
      "metadata": {
        "collapsed": true,
        "_uuid": "3a6e5984398ef045c7b305bc459e913cc918654d",
        "scrolled": true,
        "_cell_guid": "a64049a5-05bf-41ca-b7dd-72a238754a75",
        "trusted": false,
        "id": "2VzIYf5JsxOl"
      },
      "cell_type": "code",
      "source": [
        "# Lets start with simpler questions: Which 10 states have the most number of schools that opened projects to gather donations ?\n",
        "# to answer this question we dont need our combined dataframe. WE should answer this question by looking only schools dataframe\n",
        "# since in our combined  dataframe we duplicated project ID's for each donation which also caused states to duplicate too.\n",
        "s = schools[\"School State\"].value_counts().sort_values(ascending = False).head(10)\n",
        "s"
      ],
      "execution_count": null,
      "outputs": []
    },
    {
      "metadata": {
        "collapsed": true,
        "_uuid": "bd76160d0b28e157cbc038af61ed79b0c3a41359",
        "_cell_guid": "54930c2a-f1fc-4778-b28a-47d78c68e23a",
        "trusted": false,
        "id": "-mEQYRvLsxOl"
      },
      "cell_type": "code",
      "source": [
        "# lets visualize this with a bar plot Since it has different categories ( states )\n",
        "s.plot.bar()\n",
        "plt.xlabel(\"states\")\n",
        "plt.ylabel(\"number of schools\")\n",
        "plt.title(\"Number of Schools involved in Projects by State\")\n",
        "plt.tight_layout()\n",
        "plt.margins(0.05)\n",
        "\n"
      ],
      "execution_count": null,
      "outputs": []
    },
    {
      "metadata": {
        "collapsed": true,
        "_uuid": "81db085a2493a2bcfb4e2fc7ff9992f012138820",
        "scrolled": true,
        "_cell_guid": "0f60a584-1ccf-49e2-b5ae-b54295921d6b",
        "trusted": false,
        "id": "cioW2WLRsxOm"
      },
      "cell_type": "code",
      "source": [
        "# Lets ask a more advanced version of this question :What are the top 10 states in which\n",
        "# schools gathered most amount of AVERAGE donations for their projects ?\n",
        "# This time we need our combined dataframe !\n",
        "s2 = data4.groupby(\"School State\")[\"Donation Amount\"].mean().sort_values(ascending = False).head(10)\n",
        "s2"
      ],
      "execution_count": null,
      "outputs": []
    },
    {
      "metadata": {
        "collapsed": true,
        "_uuid": "38b275f24946d5cc91b3a2e66ee3b253253184e2",
        "_cell_guid": "4a831352-4dde-450c-9f07-efe6a39f9dd4",
        "trusted": false,
        "id": "Qa7kF2HisxOm"
      },
      "cell_type": "code",
      "source": [
        "# Lets visualize states that have more average donations per project than others.\n",
        "s2.plot.barh()\n",
        "plt.xlabel(\"Average Donations Per Project ( in dollars )\")\n",
        "plt.ylabel(\"States\")\n",
        "plt.axvline(data4.groupby(\"School State\")[\"Donation Amount\"].mean().mean(), color = \"blue\", linewidth = 2 )\n",
        "plt.title(\"Top 10 States that gather donations more than average\")\n",
        "plt.tight_layout()\n",
        "plt.margins(0.05)\n"
      ],
      "execution_count": null,
      "outputs": []
    },
    {
      "metadata": {
        "collapsed": true,
        "_uuid": "34ef39e0673479bb0b630d1eb59f97230c9c46b0",
        "_cell_guid": "bac6fb08-21d8-464e-91ff-4e27e2142a8d",
        "trusted": false,
        "id": "-ElN2sCbsxOm"
      },
      "cell_type": "code",
      "source": [
        "# I want to further investigate the maximum, minimum, mean, median, 25th and 75th percentiles of \"Donation Amount\" column. What is the average donation\n",
        "# amount acroos all projects ? What are the minimum and maximums ?\n",
        "mean = np.mean(data4[\"Donation Amount\"].dropna())\n",
        "median = np.median(data4[\"Donation Amount\"].dropna())\n",
        "percentiles = np.percentile(data4[\"Donation Amount\"].dropna(), [25,75])\n",
        "minimum = data4[\"Donation Amount\"].dropna().min()\n",
        "maximum = data4[\"Donation Amount\"].dropna().max()\n",
        "print(\"Mean donation amount is: \", np.round(mean,2))\n",
        "print(\"Median donation amount is \", median)\n",
        "print(\"25th and 75th percentiles are: \", percentiles)\n",
        "print(\"Minimum and maximum donation amounts are :\", minimum, \"    \",maximum)\n"
      ],
      "execution_count": null,
      "outputs": []
    },
    {
      "metadata": {
        "_uuid": "bca8d57b1bfa7e6a290ca24eaec389a3e9759009",
        "_cell_guid": "bddb75bc-d2de-4892-b56a-8d1e4b20f943",
        "id": "hMEzB4BWsxOn"
      },
      "cell_type": "markdown",
      "source": [
        "**We can immediately observe from above statistics that our Donations Amount column have lots of outliers since mean is 60 whereas median is 25 which shows that there are plenty of outliers causing mean to rise,  second indicator is that we have 25th and 75th percentiles both below than mean. In other words although %75 percent of our data smaller than 50 we have a mean values which is 60.66 which is also a good indicator of outliers. Lastly we can easily say that maximum value is a huge outlier too.**\n"
      ]
    },
    {
      "metadata": {
        "collapsed": true,
        "_uuid": "01035fcb9e49fc799fb13a30d185ac80b67a6142",
        "_cell_guid": "cc5ad08f-11b9-467a-97ec-9eff609d885d",
        "trusted": false,
        "id": "MV3PlfZrsxOn"
      },
      "cell_type": "code",
      "source": [
        "# I want to plot Empirical Cumulative Distribution Function(ECDF) of \"Donation Amount\" column.It will better visualize the existence of outliers\n",
        "# in the data.This method is pretty nifty for EDA. I recommend you to adapt this as a convention.\n",
        "# Basically it shows in which percent my data has points greater or smaller than the value shown in the x axis.\n",
        "# Although it is not clear here we can immediately see that almost 99 percent of our data lies in the range of 0 to 100.\n",
        "x = np.sort(data4[\"Donation Amount\"].dropna())\n",
        "y = np.arange(1, len(x)+1) / len(x)\n",
        "plt.plot(x,y,marker = \".\", linestyle = \"none\")\n"
      ],
      "execution_count": null,
      "outputs": []
    },
    {
      "metadata": {
        "collapsed": true,
        "_uuid": "25f4a6d06e529ba2d43e6136948132c103d8b581",
        "_cell_guid": "1cd910e3-a37f-4e9d-8c9c-c7a882bd2b86",
        "trusted": false,
        "id": "ueJ2ueHOsxOn"
      },
      "cell_type": "code",
      "source": [
        "# Now, I want to know in which states there are more donations done by donors.\n",
        "s3 = data4.groupby(\"Donor State\")[\"Donation ID\"].count().sort_values(ascending = False).head(15)\n",
        "s3"
      ],
      "execution_count": null,
      "outputs": []
    },
    {
      "metadata": {
        "_uuid": "a6ebae206b1ab9c4c9bc8b7a84083e62d58692aa",
        "_cell_guid": "844d944c-dcfb-46e9-ac9c-fb787ed89dcb",
        "id": "quAR_VzmsxOo"
      },
      "cell_type": "markdown",
      "source": [
        "**Now, it is time for a more advanced question ? Is there a relationship between the number of projects offered and number of donations made by the\n",
        "donors. Which states performing better in this case ? How many of them responding project requests below average and which states are performing best\n",
        "in terms of donations per project ?  In order to answer this question we must first get the number of projects per state and then number of donations made per state. Then we should merge this two and plot a scatter plot to visualize it . Lets do it ! **\n",
        "\n"
      ]
    },
    {
      "metadata": {
        "collapsed": true,
        "_uuid": "9e0480063268e8264e6ba2b16b0bfa176b430868",
        "_cell_guid": "4f413049-a5c4-4b99-a541-34e2669387a8",
        "trusted": false,
        "id": "DkMMMGohsxOo"
      },
      "cell_type": "code",
      "source": [
        "s4 = schools[\"School State\"].value_counts()\n",
        "s5 = data4.groupby(\"Donor State\")[\"Donation ID\"].count()\n",
        "df = pd.concat([s4,s5], axis = 1, keys = [\"Projects\", \"Donations\"])\n",
        "df.head(10)\n"
      ],
      "execution_count": null,
      "outputs": []
    },
    {
      "metadata": {
        "collapsed": true,
        "_uuid": "9a97cebb5627192a62c808ca7eb4f9eee258c39a",
        "_cell_guid": "53e891c8-75c9-4743-b331-be9940427fcb",
        "trusted": false,
        "id": "5jbXS0LMsxOo"
      },
      "cell_type": "code",
      "source": [
        "df.loc[:,df.isnull().any()]   ## returns column with any Nan values"
      ],
      "execution_count": null,
      "outputs": []
    },
    {
      "metadata": {
        "collapsed": true,
        "_uuid": "d066487f0f6b0bad9c697c293757e491231df5a3",
        "_cell_guid": "9510360e-0632-47c8-8578-3932c6fbeba5",
        "trusted": false,
        "id": "WPUQCgK0sxOy"
      },
      "cell_type": "code",
      "source": [
        "df = df.dropna()"
      ],
      "execution_count": null,
      "outputs": []
    },
    {
      "metadata": {
        "collapsed": true,
        "_uuid": "7342614a68d443d9abf7e6694ddcf96444d41ad9",
        "_cell_guid": "cb703d7b-28ee-4fbe-bc1f-d4f9cecb92fc",
        "trusted": false,
        "id": "41yBLGy8sxOz"
      },
      "cell_type": "code",
      "source": [
        "# Now it is time to visualize this data for further insights.\n",
        "df.plot.scatter(x = \"Projects\", y = \"Donations\")\n",
        "plt.title(\"Projects vs Donations\")\n",
        "plt.tight_layout()\n",
        "plt.margins(0.05)\n"
      ],
      "execution_count": null,
      "outputs": []
    },
    {
      "metadata": {
        "_uuid": "fa9e2ed56d08257d1ea23a4c13a6db48db9132a9",
        "_cell_guid": "cfc8dc6c-83b0-419f-a2c0-5b143048555c",
        "id": "aSHBUDxtsxOz"
      },
      "cell_type": "markdown",
      "source": [
        "**It can be seen from the graph above that there is a positive correlation between projects requested and donations made. It looks like we can model it with a linear equation.\n",
        "Before that I would like to know what is the correlation coefficient between these two. Is it strong or moderately correlated ?  Lets check it **\n"
      ]
    },
    {
      "metadata": {
        "collapsed": true,
        "_uuid": "5c952d9f7441cf15d4f0c9fdd59182a653a21841",
        "_cell_guid": "82d0f2f8-ac3d-4f19-a30b-e27da67c2c6e",
        "trusted": false,
        "id": "whj_ipWjsxOz"
      },
      "cell_type": "code",
      "source": [
        "np.corrcoef(df.Projects,df.Donations)   ## It is indeed a pretty strong correlation which is equal to 0.944"
      ],
      "execution_count": null,
      "outputs": []
    },
    {
      "metadata": {
        "collapsed": true,
        "_uuid": "f131535c448b21322dd43d905d0e0dd50913010b",
        "_cell_guid": "563f8955-4a2b-4630-8a01-b2f63dfd2c0c",
        "trusted": false,
        "id": "CX-PQi13sxOz"
      },
      "cell_type": "code",
      "source": [
        "## In this part, I will try to explain how we can add data labels in scatter plot with the help of .annotate() method.\n",
        "df.plot.scatter(x = \"Projects\", y = \"Donations\")\n",
        "plt.title(\"Projects vs Donations\")\n",
        "for i, j in enumerate(df.index):\n",
        "    plt.annotate(j,(df.Projects[i], df.Donations[i]))\n",
        "plt.tight_layout()\n",
        "plt.margins(0.05)\n",
        "## to increase figure size :\n",
        "fig = plt.gcf()\n",
        "fig.set_size_inches(18.5, 10.5)\n"
      ],
      "execution_count": null,
      "outputs": []
    },
    {
      "metadata": {
        "collapsed": true,
        "_uuid": "f6efcb06cdd1d089d326941ade80dbfbdf8b18d8",
        "_cell_guid": "a067fabc-8dbb-46cc-b61b-90c4e4eaf453",
        "trusted": false,
        "id": "XvTWizLosxO0"
      },
      "cell_type": "code",
      "source": [
        "# Now, I would like to fit a linear model which will basically indicate the relationship between projects and donations.\n",
        "slope, intercept = np.polyfit(df.Projects, df.Donations, 1)\n",
        "x = np.array([df.Projects.min(), df.Projects.max()])\n",
        "y =  slope * x + intercept\n",
        "plt.plot(x,y)"
      ],
      "execution_count": null,
      "outputs": []
    },
    {
      "metadata": {
        "collapsed": true,
        "_uuid": "f6cad230cc8d5951e2d107f0699ee4fae8e03553",
        "_cell_guid": "693c5f87-725f-434f-86ae-52da85b66cf9",
        "trusted": false,
        "id": "QkfijNLbsxO0"
      },
      "cell_type": "code",
      "source": [
        "## Now, lets combine two graphs in the same plot:\n",
        "_ = df.plot.scatter(x = \"Projects\", y = \"Donations\")\n",
        "_ = plt.title(\"Projects vs Donations\")\n",
        "slope, intercept = np.polyfit(df.Projects, df.Donations, 1)\n",
        "x = np.array([df.Projects.min(), df.Projects.max()])\n",
        "y =  slope * x + intercept\n",
        "_ = plt.plot(x,y)\n",
        "_ = plt.tight_layout()\n",
        "_ = plt.margins(0.05)"
      ],
      "execution_count": null,
      "outputs": []
    },
    {
      "metadata": {
        "_uuid": "42837978d9377ba93f92f0a3034505fa7139a1fb",
        "_cell_guid": "29a8b2b9-537c-4775-813d-77fc52728b0f",
        "id": "2Sr5cJ8QsxO0"
      },
      "cell_type": "markdown",
      "source": [
        "**Basically, the points below this line are relatively worse performing states in terms of number of donations made. Of course it is not just number, the amount of the donations are also a big consideration but the graph above just compares it with the number of donations. If we want to analyze total donation amount made versus states then we should follow the same path but this time we must sum donations for each state. I will not do it here but I recommend you to try this one .**\n",
        "\n"
      ]
    },
    {
      "metadata": {
        "collapsed": true,
        "_uuid": "17ce7e26b793ed9084da84d385057a3bc862aa3b",
        "_cell_guid": "821f563f-983d-42b4-a8f7-3b93a19f2d1d",
        "trusted": false,
        "id": "NeavE7dZsxO0"
      },
      "cell_type": "code",
      "source": [
        "# Lets recall our dataframe to seek for new questions :\n",
        "data4.head(1)"
      ],
      "execution_count": null,
      "outputs": []
    },
    {
      "metadata": {
        "collapsed": true,
        "_uuid": "b3f4683bbe360cdd09fec9ebcbd0a69313c46330",
        "scrolled": true,
        "_cell_guid": "7f667a1e-66a2-49eb-b5df-990631b553a3",
        "trusted": false,
        "id": "fPciGDJzsxO1"
      },
      "cell_type": "code",
      "source": [
        "## How mant different project types exists ?  What is the total donation amount for each of them ?\n",
        "s6 = data4[\"Project Type\"].value_counts()\n",
        "s6"
      ],
      "execution_count": null,
      "outputs": []
    },
    {
      "metadata": {
        "collapsed": true,
        "_uuid": "0ac4010369b004d8ca632b6a694ab95086f29f98",
        "_cell_guid": "4501e4ec-cb31-427a-9eb9-175ba0c68b12",
        "trusted": false,
        "id": "dqqnhv6asxO1"
      },
      "cell_type": "code",
      "source": [
        "s7 = data4.groupby(\"Project Type\")[\"Donation Amount\"].sum().astype(int)\n",
        "s7"
      ],
      "execution_count": null,
      "outputs": []
    },
    {
      "metadata": {
        "collapsed": true,
        "_uuid": "e2a84fe245a9888148915009c045eddb7e1006f5",
        "_cell_guid": "aee9ab90-5549-4166-9c93-a0c467575d45",
        "trusted": false,
        "id": "w4cmftc8sxO1"
      },
      "cell_type": "code",
      "source": [
        "plt.subplot(1,2,1)\n",
        "plt.pie(s6, autopct = '%1.1f%%',labels = s6.index, startangle = 90)\n",
        "plt.tight_layout()\n",
        "plt.margins(0.05)\n",
        "plt.legend(loc = \"upper left\")\n",
        "plt.subplot(1,2,2)\n",
        "plt.pie(s7, autopct = \"%1.1f%%\",labels = s7.index, startangle = 90)\n",
        "plt.legend(loc = \"upper left\")\n",
        "plt.tight_layout()\n",
        "plt.margins(0.05)\n",
        "fig = plt.gcf()\n",
        "fig.set_size_inches(15, 5)"
      ],
      "execution_count": null,
      "outputs": []
    },
    {
      "metadata": {
        "collapsed": true,
        "_uuid": "77108c2ad01b5347565815b8e4430677bdd78300",
        "_cell_guid": "35e9920d-724b-4e60-a20b-165b208fa7fd",
        "trusted": false,
        "id": "IUimdcJAsxO1"
      },
      "cell_type": "code",
      "source": [
        "## How mant project subject category trees exists ? Which ones attracted the most donations ?\n",
        "data4[\"Project Subject Category Tree\"].nunique()\n",
        "\n"
      ],
      "execution_count": null,
      "outputs": []
    },
    {
      "metadata": {
        "collapsed": true,
        "_uuid": "82fefb7b44caf01df24fe75fa860e78d83f6be3e",
        "_cell_guid": "7868874a-a413-4d98-a459-8c8ec5a6ce4d",
        "trusted": false,
        "id": "gH474utJsxO2"
      },
      "cell_type": "code",
      "source": [
        "# Which ones attracted the most donations ?\n",
        "s8 = data4.groupby(\"Project Subject Category Tree\")[\"Donation Amount\"].sum().sort_values(ascending = False).astype(int).head(15)\n",
        "s8"
      ],
      "execution_count": null,
      "outputs": []
    },
    {
      "metadata": {
        "collapsed": true,
        "_uuid": "2a3cdc163f52c1feef9ddd03bbfd67bd7756f638",
        "_cell_guid": "2dd58fc1-5b4d-4050-aafb-e6f96fd00d22",
        "trusted": false,
        "id": "9gIxPXHOsxO2"
      },
      "cell_type": "code",
      "source": [
        "## To convert it to million dollars.\n",
        "s9 = s8 / 1000000\n",
        "# lets visualize it :\n",
        "s9.plot.bar()\n",
        "plt.xlabel(\"Project Subject Category\")\n",
        "plt.ylabel(\"Donation Amount ( million dollars )\")\n",
        "plt.title(\"Donation Amount by Project Subject\")\n"
      ],
      "execution_count": null,
      "outputs": []
    },
    {
      "metadata": {
        "collapsed": true,
        "_uuid": "6475a4ef1100a997695be1f92d42823a897a3752",
        "_cell_guid": "15e523eb-042f-4f9d-9243-ae6633d81e87",
        "id": "IBMlWfECsxO2"
      },
      "cell_type": "markdown",
      "source": [
        "## Okay, Lets ask one last question for now :\n",
        "# What is the mean time that takes a project to be fully funded after posted and how it varies between states ?\n",
        "# Which states are the best and which are the worst performing in terms of this criteria ( mean project fully funded time) ??\n"
      ]
    },
    {
      "metadata": {
        "collapsed": true,
        "_uuid": "ebe9f22021bf23823f05bcdf79dd4d0c16c3f0b3",
        "_cell_guid": "e97363bb-809b-4460-a3b3-a4c90eaaa2b4",
        "trusted": false,
        "id": "Xl1HtE3HsxO3"
      },
      "cell_type": "code",
      "source": [
        "data4[[\"Project Posted Date\", \"Project Fully Funded Date\"]].isnull().sum()\n",
        "## to see how many projects are still open, we may choose to remove that ones.\n"
      ],
      "execution_count": null,
      "outputs": []
    },
    {
      "metadata": {
        "collapsed": true,
        "_uuid": "7590912c883d840223cf0db5992fdc51c3597238",
        "_cell_guid": "f843de81-e952-4567-8cde-fad6901f7df0",
        "trusted": false,
        "id": "DF6fdSH7sxO3"
      },
      "cell_type": "code",
      "source": [
        "# to understand their formats. These two columns are initially object types. We will convert them to datetime.\n",
        "data4[[\"Project Fully Funded Date\", \"Project Posted Date\"]].head(10)"
      ],
      "execution_count": null,
      "outputs": []
    },
    {
      "metadata": {
        "collapsed": true,
        "_uuid": "7c567399f0a5e659fc5175268a5a3d1150c2c51a",
        "_cell_guid": "8008356b-4d98-4aff-b25a-89e99e87f66b",
        "trusted": false,
        "id": "Bx3pAvARsxO4"
      },
      "cell_type": "code",
      "source": [
        "data4[\"Project Posted Date\"] = pd.to_datetime(data4[\"Project Posted Date\"])\n",
        "data4[\"Project Posted Date\"].dtype"
      ],
      "execution_count": null,
      "outputs": []
    },
    {
      "metadata": {
        "collapsed": true,
        "_uuid": "eb8db1ba7dfbe6f00b12b8293cae10d9efd115b3",
        "_cell_guid": "2dded44c-9f94-4c0a-83f2-e7cd15e7923c",
        "trusted": false,
        "id": "u3hugq7rsxO4"
      },
      "cell_type": "code",
      "source": [
        "data4[\"Project Fully Funded Date\"] = pd.to_datetime(data4[\"Project Fully Funded Date\"].dropna())\n",
        "data4[\"Project Fully Funded Date\"].dtype"
      ],
      "execution_count": null,
      "outputs": []
    },
    {
      "metadata": {
        "collapsed": true,
        "_uuid": "93d0e834ef1fbd646fe33cd6ce0ea88d5365a2de",
        "_cell_guid": "47b6a7c0-6ed7-4184-ba51-20198a185ea0",
        "trusted": false,
        "id": "37QEazacsxO5"
      },
      "cell_type": "code",
      "source": [
        "data4[\"Funding Time\"] = data4[\"Project Fully Funded Date\"] - data4[\"Project Posted Date\"]\n",
        "data4[[\"Funding Time\",\"Project Fully Funded Date\",\"Project Posted Date\"]].head()\n"
      ],
      "execution_count": null,
      "outputs": []
    },
    {
      "metadata": {
        "collapsed": true,
        "_uuid": "d62996db179b3b5f80a815edb71f1ac86485d3b2",
        "_cell_guid": "de4587a0-41df-4754-8e92-c03a185be701",
        "trusted": false,
        "id": "V_hrYMuosxO5"
      },
      "cell_type": "code",
      "source": [
        "data4[[\"Funding Time\",\"Project Fully Funded Date\",\"Project Posted Date\"]].isnull().sum()"
      ],
      "execution_count": null,
      "outputs": []
    },
    {
      "metadata": {
        "collapsed": true,
        "_uuid": "898b2a761cee402d95ffc7136c84a4a756ddd051",
        "_cell_guid": "ed6ca285-edd5-4b09-af4e-4fd0ff67feae",
        "trusted": false,
        "id": "AZ6jS-dLsxO5"
      },
      "cell_type": "code",
      "source": [
        "data5 = data4[pd.notnull(data4[\"Funding Time\"])]   ## to drop NaT values.\n",
        "data5[[\"Funding Time\",\"Project Fully Funded Date\",\"Project Posted Date\"]].isnull().sum()"
      ],
      "execution_count": null,
      "outputs": []
    },
    {
      "metadata": {
        "collapsed": true,
        "_uuid": "7a004ab626c69bdecddd546e7119d68db9a9132e",
        "scrolled": true,
        "_cell_guid": "c67bb72c-401c-472e-8e01-c8c3f1ba7f66",
        "trusted": false,
        "id": "So8mxfiZsxO5"
      },
      "cell_type": "code",
      "source": [
        "import datetime as dt\n",
        "data5[\"Funding Time\"] = data5[\"Funding Time\"].dt.days"
      ],
      "execution_count": null,
      "outputs": []
    },
    {
      "metadata": {
        "collapsed": true,
        "_uuid": "670b625ce1fa53d27ade54d92df014e1b9fb5631",
        "_cell_guid": "d81a2711-7c0f-41cf-ac28-e64ed463e340",
        "trusted": false,
        "id": "Rc66ruJxsxO5"
      },
      "cell_type": "code",
      "source": [
        "data5[[\"Funding Time\",\"Project Fully Funded Date\",\"Project Posted Date\"]].head()"
      ],
      "execution_count": null,
      "outputs": []
    },
    {
      "metadata": {
        "collapsed": true,
        "_uuid": "10cfc8261344f08d877a55883db75f99893cce9c",
        "_cell_guid": "726134e7-6472-428b-bd59-cf96f737e61c",
        "trusted": false,
        "id": "YdCrTaOtsxO6"
      },
      "cell_type": "code",
      "source": [
        "mean_time_project_funding = data5.groupby(\"Project ID\")[\"Funding Time\"].mean()\n",
        "overall_mean_time = mean_time_project_funding.mean()\n",
        "overall_mean_time"
      ],
      "execution_count": null,
      "outputs": []
    },
    {
      "metadata": {
        "_uuid": "872af466bfa0ea9611d8a67b930fedf20d9271cd",
        "_cell_guid": "37b88924-ad43-411b-8ce6-fe5ac83b5a39",
        "id": "w_4eJJyzsxO6"
      },
      "cell_type": "markdown",
      "source": [
        "**Notice the fact that mean_time_project_funding is a series which consists of different mean funding times for different projects.\n",
        "However, overall_mean_time is a value which gives us the mean funding time of all projects. If we calculated overall_mean_time by simply using\n",
        "\"Funding Time\" column we would get the wrong answer since it basically duplicates funding time column for each donation. Lets assert that :**\n"
      ]
    },
    {
      "metadata": {
        "collapsed": true,
        "_uuid": "ab90d1af0f470d43ea26a3220b2253d75b05ca59",
        "_cell_guid": "00635b13-98e5-46c6-8510-1e69f24971d2",
        "trusted": false,
        "id": "fFRCz_B_sxO6"
      },
      "cell_type": "code",
      "source": [
        "wrong_overall_mean_time = data5[\"Funding Time\"].mean()\n",
        "wrong_overall_mean_time"
      ],
      "execution_count": null,
      "outputs": []
    },
    {
      "metadata": {
        "_uuid": "508f5ceb91f7961c82663997fa98c47cce584aac",
        "_cell_guid": "d1ae06c8-45d9-419f-b21d-5bc52ec260ba",
        "id": "HFqKpi2zsxO6"
      },
      "cell_type": "markdown",
      "source": [
        "**So we calculated that overall mean project fully funding time is approximately 32 days. Lets dive deep to find whether this change significantly by different states.**"
      ]
    },
    {
      "metadata": {
        "collapsed": true,
        "_uuid": "e81fa1b3daf7ee6ba3dbf459c06be581a959c07e",
        "_cell_guid": "82db3e1b-9669-494b-b484-57141b8d1d2a",
        "trusted": false,
        "id": "-f1tDwcpsxO7"
      },
      "cell_type": "code",
      "source": [
        "states_project_funding_time = data5.groupby([\"School State\", \"Project ID\"])[\"Funding Time\"].mean()\n",
        "states_project_funding_time"
      ],
      "execution_count": null,
      "outputs": []
    },
    {
      "metadata": {
        "collapsed": true,
        "_uuid": "23bfc863db8d392580db41dcff14d6a7b1ab96fb",
        "_cell_guid": "f31569b4-aa92-4f55-86ae-3d901aeccc46",
        "trusted": false,
        "id": "ZJOpzlMxsxO8"
      },
      "cell_type": "code",
      "source": [
        "states_average_funding_time = states_project_funding_time.groupby(\"School State\").mean()\n",
        "states_average_funding_time.round(0)   ## to get the exact days I rounded to 0 decimal."
      ],
      "execution_count": null,
      "outputs": []
    },
    {
      "metadata": {
        "_uuid": "43e9d64e9c40ef11fd2c2c4a682e34ba6efcb8d4",
        "_cell_guid": "443f0e9c-db11-4cce-bb9b-7483ddb97638",
        "id": "hD2WJ3NzsxO8"
      },
      "cell_type": "markdown",
      "source": [
        "**In the operations above, we calculated that average project fully funding time is 32 days. Later we founded average project funding time for each states.\n",
        "Lets see which are them performing best ( in which 10 states project funded earlier than average days ? )\n",
        "Lets also see which are them performing worst ( in which 10 states project funded later than average days ? ) **\n"
      ]
    },
    {
      "metadata": {
        "collapsed": true,
        "_uuid": "cc2b982ba5275d36f0005e41dfc95f9f55249508",
        "_cell_guid": "bc9f4962-70fb-4b96-b74b-51349249bf17",
        "trusted": false,
        "id": "CIVigbpWsxO-"
      },
      "cell_type": "code",
      "source": [
        "ss = states_average_funding_time.round(0)\n",
        "ss[ss < 32].sort_values().head(10)"
      ],
      "execution_count": null,
      "outputs": []
    },
    {
      "metadata": {
        "collapsed": true,
        "_uuid": "713fe46ceb44e7f32e2f2d264cdffe6f5957cbc0",
        "_cell_guid": "180da1ac-eda9-4c87-a798-98dbe62cc7b3",
        "trusted": false,
        "id": "LhvZy94csxO_"
      },
      "cell_type": "code",
      "source": [
        "fast_funding_states = ss[ss < 32].sort_values().head(10)\n",
        "fast_funding_states.plot.bar()\n",
        "plt.axhline(32, color =\"m\", linewidth = 2)\n",
        "plt.ylim(0,40)\n",
        "plt.xlabel(\"States\")\n",
        "plt.ylabel(\"Fully Funding Time  ( in days )\")\n",
        "plt.title(\"States that fund projects faster than others\")\n",
        "\n"
      ],
      "execution_count": null,
      "outputs": []
    },
    {
      "metadata": {
        "collapsed": true,
        "_uuid": "a1a32f34fb876f14e5a41dbbc5274643413a260a",
        "_cell_guid": "5a413380-71b9-424a-9c19-c371eacfa79e",
        "trusted": false,
        "id": "ZWNz6U7msxO_"
      },
      "cell_type": "code",
      "source": [
        "ss[ss > 32].sort_values(ascending = False).head(10)\n"
      ],
      "execution_count": null,
      "outputs": []
    },
    {
      "metadata": {
        "collapsed": true,
        "_uuid": "0b02cf0ad7083d41012409e4dc54d897ad16b9ab",
        "_cell_guid": "8007aba7-7f16-48bb-86f5-bd361b6aa0a8",
        "trusted": false,
        "id": "CJxgQLvhsxPA"
      },
      "cell_type": "code",
      "source": [
        "slow_funding_states = ss[ss > 32].sort_values(ascending = False).head(10)\n",
        "slow_funding_states.plot.bar()\n",
        "plt.axhline(32, color = \"m\", linewidth = 2)\n",
        "plt.ylim(0,40)\n",
        "plt.xlabel(\"States\")\n",
        "plt.ylabel(\"Fully Funding Time  ( in days )\")\n",
        "plt.title(\"States that fund projects slower than others\")\n"
      ],
      "execution_count": null,
      "outputs": []
    },
    {
      "metadata": {
        "_uuid": "fe04cf9a7ef98877591168b2eab6669b32b83ac7",
        "_cell_guid": "3c0c108e-91e1-41d9-a790-d0f3e4dfbd05",
        "id": "WJBgtrOYsxPA"
      },
      "cell_type": "markdown",
      "source": [
        "**This is the end of my analysis. Thank you for viewing it and I will be aprreciated for any kind of support to improve myself.**"
      ]
    }
  ],
  "metadata": {
    "kernelspec": {
      "display_name": "Python 3",
      "language": "python",
      "name": "python3"
    },
    "language_info": {
      "name": "python",
      "version": "3.6.5",
      "mimetype": "text/x-python",
      "codemirror_mode": {
        "name": "ipython",
        "version": 3
      },
      "pygments_lexer": "ipython3",
      "nbconvert_exporter": "python",
      "file_extension": ".py"
    },
    "colab": {
      "name": "Data Analysis Project",
      "provenance": []
    }
  },
  "nbformat": 4,
  "nbformat_minor": 0
}